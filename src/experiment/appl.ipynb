{
 "cells": [
  {
   "cell_type": "markdown",
   "metadata": {},
   "source": [
    "# APPL Install\n",
    "https://github.com/appl-team/appl\n",
    "https://appl-team.github.io/appl/setup/\n",
    "!pip install -U applang"
   ]
  },
  {
   "cell_type": "code",
   "execution_count": 3,
   "metadata": {},
   "outputs": [
    {
     "name": "stderr",
     "output_type": "stream",
     "text": [
      "m:\\WorkSpace\\AI\\NewsReader\\.venv\\lib\\site-packages\\pydantic\\_internal\\_config.py:345: UserWarning: Valid config keys have changed in V2:\n",
      "* 'fields' has been removed\n",
      "  warnings.warn(message, UserWarning)\n",
      "Traceback (most recent call last):\n",
      "  File \"<string>\", line 1, in <module>\n",
      "  File \"m:\\WorkSpace\\AI\\NewsReader\\.venv\\lib\\site-packages\\appl\\__init__.py\", line 79, in <module>\n",
      "    from .settings import merge_configs, update_appl_configs\n",
      "  File \"m:\\WorkSpace\\AI\\NewsReader\\.venv\\lib\\site-packages\\appl\\settings.py\", line 349, in <module>\n",
      "    _appl_init()\n",
      "  File \"m:\\WorkSpace\\AI\\NewsReader\\.venv\\lib\\site-packages\\appl\\settings.py\", line 260, in _appl_init\n",
      "    appl_config_files = find_files(start_path, APPL_CONFIG_FILES)[::-1]\n",
      "  File \"m:\\WorkSpace\\AI\\NewsReader\\.venv\\lib\\site-packages\\appl\\utils.py\", line 69, in find_files\n",
      "    for dirname in _walk_to_root(folder):\n",
      "  File \"m:\\WorkSpace\\AI\\NewsReader\\.venv\\lib\\site-packages\\dotenv\\main.py\", line 262, in _walk_to_root\n",
      "    raise IOError('Starting path not found')\n",
      "OSError: Starting path not found\n"
     ]
    }
   ],
   "source": [
    "!python -c \"import appl\""
   ]
  },
  {
   "cell_type": "markdown",
   "metadata": {},
   "source": [
    "# Hello World"
   ]
  },
  {
   "cell_type": "code",
   "execution_count": 1,
   "metadata": {},
   "outputs": [
    {
     "name": "stderr",
     "output_type": "stream",
     "text": [
      "m:\\WorkSpace\\AI\\NewsReader\\.venv\\lib\\site-packages\\pydantic\\_internal\\_config.py:345: UserWarning: Valid config keys have changed in V2:\n",
      "* 'fields' has been removed\n",
      "  warnings.warn(message, UserWarning)\n",
      "\u001b[32m2025-01-09 12:01:29\u001b[0m | \u001b[1mINFO    \u001b[0m | \u001b[36mappl.settings\u001b[0m:\u001b[36m_appl_init\u001b[0m:\u001b[36m264\u001b[0m | \u001b[1mLoaded dotenv from m:\\WorkSpace\\AI\\NewsReader\\.env\u001b[0m\n",
      "\u001b[32m2025-01-09 12:01:29\u001b[0m | \u001b[1mINFO    \u001b[0m | \u001b[36mappl.settings\u001b[0m:\u001b[36m_setup_logging\u001b[0m:\u001b[36m75\u001b[0m | \u001b[1mLogging to file: ./logs/ipykernel_launcher_2025_01_09__12_01_29.log with level INFO\u001b[0m\n",
      "\u001b[32m2025-01-09 12:01:29\u001b[0m | \u001b[1mINFO    \u001b[0m | \u001b[36mappl.settings\u001b[0m:\u001b[36m_setup_caching\u001b[0m:\u001b[36m115\u001b[0m | \u001b[1mUsing cache folder: ~/.appl/caches\u001b[0m\n",
      "\u001b[32m2025-01-09 12:01:29\u001b[0m | \u001b[33m\u001b[1mWARNING \u001b[0m | \u001b[36mappl.settings\u001b[0m:\u001b[36m_log_servers_info\u001b[0m:\u001b[36m206\u001b[0m | \u001b[33m\u001b[1mDefault server (default_servers.default) is not configured with appl config files, You need to configure it with environment variables or command line arguments.\u001b[0m\n"
     ]
    },
    {
     "ename": "AttributeError",
     "evalue": "'NoneType' object has no attribute 'get'",
     "output_type": "error",
     "traceback": [
      "\u001b[1;31m---------------------------------------------------------------------------\u001b[0m",
      "\u001b[1;31mAttributeError\u001b[0m                            Traceback (most recent call last)",
      "Cell \u001b[1;32mIn[1], line 8\u001b[0m\n\u001b[0;32m      5\u001b[0m     \u001b[38;5;124mf\u001b[39m\u001b[38;5;124m\"\u001b[39m\u001b[38;5;124mHello World! My name is \u001b[39m\u001b[38;5;132;01m{\u001b[39;00mname\u001b[38;5;132;01m}\u001b[39;00m\u001b[38;5;124m.\u001b[39m\u001b[38;5;124m\"\u001b[39m  \u001b[38;5;66;03m# Add text to the prompt\u001b[39;00m\n\u001b[0;32m      6\u001b[0m     \u001b[38;5;28;01mreturn\u001b[39;00m gen()  \u001b[38;5;66;03m# call the default LLM with the current prompt\u001b[39;00m\n\u001b[1;32m----> 8\u001b[0m \u001b[38;5;28mprint\u001b[39m(\u001b[43mgreeting\u001b[49m\u001b[43m(\u001b[49m\u001b[38;5;124;43m\"\u001b[39;49m\u001b[38;5;124;43mAPPL\u001b[39;49m\u001b[38;5;124;43m\"\u001b[39;49m\u001b[43m)\u001b[49m)  \u001b[38;5;66;03m# call `greeting` as a normal Python function\u001b[39;00m\n",
      "File \u001b[1;32mm:\\WorkSpace\\AI\\NewsReader\\.venv\\lib\\site-packages\\appl\\core\\trace.py:102\u001b[0m, in \u001b[0;36mtraceable.<locals>.decorator.<locals>.wrapper\u001b[1;34m(*args, **kwargs)\u001b[0m\n\u001b[0;32m     99\u001b[0m token \u001b[38;5;241m=\u001b[39m global_vars\u001b[38;5;241m.\u001b[39mcurrent_func\u001b[38;5;241m.\u001b[39mset(func_id)\n\u001b[0;32m    101\u001b[0m \u001b[38;5;66;03m# call the inner function\u001b[39;00m\n\u001b[1;32m--> 102\u001b[0m ret \u001b[38;5;241m=\u001b[39m func(\u001b[38;5;241m*\u001b[39margs, \u001b[38;5;241m*\u001b[39m\u001b[38;5;241m*\u001b[39mkwargs)\n\u001b[0;32m    104\u001b[0m \u001b[38;5;66;03m# reset the current function name after the function call\u001b[39;00m\n\u001b[0;32m    105\u001b[0m global_vars\u001b[38;5;241m.\u001b[39mcurrent_func\u001b[38;5;241m.\u001b[39mreset(token)\n",
      "File \u001b[1;32mm:\\WorkSpace\\AI\\NewsReader\\.venv\\lib\\site-packages\\appl\\utils.py:26\u001b[0m, in \u001b[0;36m_langsmith_traceable.<locals>.decorator.<locals>.inner\u001b[1;34m(*args, **kwargs)\u001b[0m\n\u001b[0;32m     24\u001b[0m \u001b[38;5;129m@functools\u001b[39m\u001b[38;5;241m.\u001b[39mwraps(func)\n\u001b[0;32m     25\u001b[0m \u001b[38;5;28;01mdef\u001b[39;00m \u001b[38;5;21minner\u001b[39m(\u001b[38;5;241m*\u001b[39margs: Any, \u001b[38;5;241m*\u001b[39m\u001b[38;5;241m*\u001b[39mkwargs: Any) \u001b[38;5;241m-\u001b[39m\u001b[38;5;241m>\u001b[39m Any:\n\u001b[1;32m---> 26\u001b[0m     \u001b[38;5;28;01mreturn\u001b[39;00m func(\u001b[38;5;241m*\u001b[39margs, \u001b[38;5;241m*\u001b[39m\u001b[38;5;241m*\u001b[39mkwargs)\n",
      "File \u001b[1;32mm:\\WorkSpace\\AI\\NewsReader\\.venv\\lib\\site-packages\\appl\\func.py:205\u001b[0m, in \u001b[0;36mppl.<locals>.decorator.<locals>.wrapper\u001b[1;34m(_globals, _locals, *args, **kwargs)\u001b[0m\n\u001b[0;32m    198\u001b[0m             \u001b[38;5;28;01mif\u001b[39;00m var \u001b[38;5;129;01mnot\u001b[39;00m \u001b[38;5;129;01min\u001b[39;00m _locals:\n\u001b[0;32m    199\u001b[0m                 logger\u001b[38;5;241m.\u001b[39mwarning(\n\u001b[0;32m    200\u001b[0m                     \u001b[38;5;124mf\u001b[39m\u001b[38;5;124m\"\u001b[39m\u001b[38;5;124mcould not find variable \u001b[39m\u001b[38;5;132;01m{\u001b[39;00mvar\u001b[38;5;132;01m}\u001b[39;00m\u001b[38;5;124m automatically from\u001b[39m\u001b[38;5;124m\"\u001b[39m\n\u001b[0;32m    201\u001b[0m                     \u001b[38;5;124mf\u001b[39m\u001b[38;5;124m\"\u001b[39m\u001b[38;5;124mthe caller frame for function \u001b[39m\u001b[38;5;132;01m{\u001b[39;00mfunc\u001b[38;5;241m.\u001b[39m\u001b[38;5;18m__name__\u001b[39m\u001b[38;5;132;01m}\u001b[39;00m\u001b[38;5;124m. \u001b[39m\u001b[38;5;124m\"\u001b[39m\n\u001b[0;32m    202\u001b[0m                     \u001b[38;5;124m\"\u001b[39m\u001b[38;5;124mIf you have wrapper around the function, you may need\u001b[39m\u001b[38;5;124m\"\u001b[39m\n\u001b[0;32m    203\u001b[0m                     \u001b[38;5;124m\"\u001b[39m\u001b[38;5;124mto set the `num_extra_wrappers` in @ppl function.\u001b[39m\u001b[38;5;124m\"\u001b[39m\n\u001b[0;32m    204\u001b[0m                 )\n\u001b[1;32m--> 205\u001b[0m results \u001b[38;5;241m=\u001b[39m prompt_func(\n\u001b[0;32m    206\u001b[0m     \u001b[38;5;241m*\u001b[39margs,\n\u001b[0;32m    207\u001b[0m     _globals\u001b[38;5;241m=\u001b[39m_globals,\n\u001b[0;32m    208\u001b[0m     _locals\u001b[38;5;241m=\u001b[39m_locals,\n\u001b[0;32m    209\u001b[0m     _is_class_method\u001b[38;5;241m=\u001b[39m_is_class_method,\n\u001b[0;32m    210\u001b[0m     \u001b[38;5;241m*\u001b[39m\u001b[38;5;241m*\u001b[39mkwargs,\n\u001b[0;32m    211\u001b[0m )\n\u001b[0;32m    213\u001b[0m \u001b[38;5;28;01mreturn\u001b[39;00m results\n",
      "File \u001b[1;32mm:\\WorkSpace\\AI\\NewsReader\\.venv\\lib\\site-packages\\appl\\core\\function.py:184\u001b[0m, in \u001b[0;36mPromptFunc._call\u001b[1;34m(self, _ctx, *args, **kwargs)\u001b[0m\n\u001b[0;32m    181\u001b[0m     child_ctx\u001b[38;5;241m.\u001b[39mpush_printer(compositor\u001b[38;5;241m.\u001b[39mpush_args)\n\u001b[0;32m    183\u001b[0m \u001b[38;5;66;03m# run the function\u001b[39;00m\n\u001b[1;32m--> 184\u001b[0m results \u001b[38;5;241m=\u001b[39m \u001b[38;5;28mself\u001b[39m\u001b[38;5;241m.\u001b[39m_run(parent_ctx, child_ctx, \u001b[38;5;241m*\u001b[39margs, \u001b[38;5;241m*\u001b[39m\u001b[38;5;241m*\u001b[39mkwargs)\n\u001b[0;32m    185\u001b[0m \u001b[38;5;28;01mif\u001b[39;00m results \u001b[38;5;129;01mis\u001b[39;00m \u001b[38;5;28;01mNone\u001b[39;00m \u001b[38;5;129;01mand\u001b[39;00m \u001b[38;5;28mself\u001b[39m\u001b[38;5;241m.\u001b[39m_default_return \u001b[38;5;241m==\u001b[39m \u001b[38;5;124m\"\u001b[39m\u001b[38;5;124mprompt\u001b[39m\u001b[38;5;124m\"\u001b[39m:\n\u001b[0;32m    186\u001b[0m     results \u001b[38;5;241m=\u001b[39m child_ctx\u001b[38;5;241m.\u001b[39mrecords  \u001b[38;5;66;03m# the default return result\u001b[39;00m\n",
      "File \u001b[1;32mm:\\WorkSpace\\AI\\NewsReader\\.venv\\lib\\site-packages\\appl\\core\\function.py:120\u001b[0m, in \u001b[0;36mPromptFunc._run\u001b[1;34m(self, parent_ctx, child_ctx, *args, **kwargs)\u001b[0m\n\u001b[0;32m    101\u001b[0m \u001b[38;5;250m\u001b[39m\u001b[38;5;124;03m\"\"\"Run the prompt function with desired context, deal with the exception.\"\"\"\u001b[39;00m\n\u001b[0;32m    102\u001b[0m \u001b[38;5;66;03m# if parent_ctx.is_outmost:\u001b[39;00m\n\u001b[0;32m    103\u001b[0m \u001b[38;5;66;03m#     exc = None\u001b[39;00m\n\u001b[0;32m    104\u001b[0m \u001b[38;5;66;03m#     try:\u001b[39;00m\n\u001b[1;32m   (...)\u001b[0m\n\u001b[0;32m    118\u001b[0m \u001b[38;5;66;03m# else:  # run normally, capture the exception at the outmost appl function\u001b[39;00m\n\u001b[0;32m    119\u001b[0m \u001b[38;5;66;03m#     results = self._func(_ctx=child_ctx, *args, **kwargs)\u001b[39;00m\n\u001b[1;32m--> 120\u001b[0m results \u001b[38;5;241m=\u001b[39m \u001b[38;5;28mself\u001b[39m\u001b[38;5;241m.\u001b[39m_func(_ctx\u001b[38;5;241m=\u001b[39mchild_ctx, \u001b[38;5;241m*\u001b[39margs, \u001b[38;5;241m*\u001b[39m\u001b[38;5;241m*\u001b[39mkwargs)\n\u001b[0;32m    121\u001b[0m \u001b[38;5;28;01mreturn\u001b[39;00m results\n",
      "File \u001b[1;32mm:\\WorkSpace\\AI\\NewsReader\\.venv\\lib\\site-packages\\appl\\core\\compile.py:449\u001b[0m, in \u001b[0;36mAPPLCompiled.__call__\u001b[1;34m(self, _globals, _locals, *args, **kwargs)\u001b[0m\n\u001b[0;32m    447\u001b[0m exec(\u001b[38;5;28mself\u001b[39m\u001b[38;5;241m.\u001b[39m_code, _globals, local_vars)  \u001b[38;5;66;03m# TODO: use closure argument\u001b[39;00m\n\u001b[0;32m    448\u001b[0m func \u001b[38;5;241m=\u001b[39m local_vars[\u001b[38;5;28mself\u001b[39m\u001b[38;5;241m.\u001b[39m_name]\n\u001b[1;32m--> 449\u001b[0m \u001b[38;5;28;01mreturn\u001b[39;00m func(\u001b[38;5;241m*\u001b[39margs, \u001b[38;5;241m*\u001b[39m\u001b[38;5;241m*\u001b[39mkwargs)\n",
      "File \u001b[1;32m<appl-compiled:C:\\Users\\SWIFT\\AppData\\Local\\Temp\\ipykernel_26824\\3901619711.py:3>:4\u001b[0m, in \u001b[0;36mgreeting\u001b[1;34m(name, _ctx)\u001b[0m\n\u001b[0;32m      1\u001b[0m \u001b[38;5;129m@ppl\u001b[39m  \u001b[38;5;66;03m# the @ppl decorator marks the function as an `APPL function`\u001b[39;00m\n\u001b[0;32m      2\u001b[0m \u001b[38;5;28;01mdef\u001b[39;00m \u001b[38;5;21mgreeting\u001b[39m(name: \u001b[38;5;28mstr\u001b[39m):\n\u001b[0;32m      3\u001b[0m     \u001b[38;5;124mf\u001b[39m\u001b[38;5;124m\"\u001b[39m\u001b[38;5;124mHello World! My name is \u001b[39m\u001b[38;5;132;01m{\u001b[39;00mname\u001b[38;5;132;01m}\u001b[39;00m\u001b[38;5;124m.\u001b[39m\u001b[38;5;124m\"\u001b[39m  \u001b[38;5;66;03m# Add text to the prompt\u001b[39;00m\n\u001b[1;32m----> 4\u001b[0m     \u001b[38;5;28;01mreturn\u001b[39;00m gen()\n",
      "File \u001b[1;32mm:\\WorkSpace\\AI\\NewsReader\\.venv\\lib\\site-packages\\appl\\core\\runtime.py:42\u001b[0m, in \u001b[0;36mappl_with_ctx\u001b[1;34m(_func, _ctx, _globals, _locals, *args, **kwargs)\u001b[0m\n\u001b[0;32m     40\u001b[0m \u001b[38;5;28;01mif\u001b[39;00m \u001b[38;5;28mgetattr\u001b[39m(_func, \u001b[38;5;124m\"\u001b[39m\u001b[38;5;124m__need_ctx__\u001b[39m\u001b[38;5;124m\"\u001b[39m, \u001b[38;5;28;01mFalse\u001b[39;00m):\n\u001b[0;32m     41\u001b[0m     kwargs[\u001b[38;5;124m\"\u001b[39m\u001b[38;5;124m_ctx\u001b[39m\u001b[38;5;124m\"\u001b[39m] \u001b[38;5;241m=\u001b[39m _ctx  \u001b[38;5;66;03m# add the context to the kwargs\u001b[39;00m\n\u001b[1;32m---> 42\u001b[0m \u001b[38;5;28;01mreturn\u001b[39;00m _func(\u001b[38;5;241m*\u001b[39margs, \u001b[38;5;241m*\u001b[39m\u001b[38;5;241m*\u001b[39mkwargs)\n",
      "File \u001b[1;32mm:\\WorkSpace\\AI\\NewsReader\\.venv\\lib\\site-packages\\appl\\func.py:461\u001b[0m, in \u001b[0;36mgen\u001b[1;34m(server, messages, max_tokens, stop, temperature, top_p, n, tools, tool_format, stream, response_format, response_model, max_relay_rounds, mock_response, messages_process_func, _ctx, **kwargs)\u001b[0m\n\u001b[0;32m    405\u001b[0m \u001b[38;5;129m@need_ctx\u001b[39m\n\u001b[0;32m    406\u001b[0m \u001b[38;5;28;01mdef\u001b[39;00m \u001b[38;5;21mgen\u001b[39m(\n\u001b[0;32m    407\u001b[0m     server: Optional[\u001b[38;5;28mstr\u001b[39m] \u001b[38;5;241m=\u001b[39m \u001b[38;5;28;01mNone\u001b[39;00m,\n\u001b[1;32m   (...)\u001b[0m\n\u001b[0;32m    424\u001b[0m     \u001b[38;5;241m*\u001b[39m\u001b[38;5;241m*\u001b[39mkwargs: Any,\n\u001b[0;32m    425\u001b[0m ) \u001b[38;5;241m-\u001b[39m\u001b[38;5;241m>\u001b[39m Generation[M]:\n\u001b[0;32m    426\u001b[0m \u001b[38;5;250m    \u001b[39m\u001b[38;5;124;03m\"\"\"Send a generation request to the LLM backend.\u001b[39;00m\n\u001b[0;32m    427\u001b[0m \n\u001b[0;32m    428\u001b[0m \u001b[38;5;124;03m    Args:\u001b[39;00m\n\u001b[1;32m   (...)\u001b[0m\n\u001b[0;32m    459\u001b[0m \u001b[38;5;124;03m        Generation: a future object representing the generation result\u001b[39;00m\n\u001b[0;32m    460\u001b[0m \u001b[38;5;124;03m    \"\"\"\u001b[39;00m\n\u001b[1;32m--> 461\u001b[0m     backend_server \u001b[38;5;241m=\u001b[39m \u001b[43mserver_manager\u001b[49m\u001b[38;5;241;43m.\u001b[39;49m\u001b[43mget_server\u001b[49m\u001b[43m(\u001b[49m\u001b[43mserver\u001b[49m\u001b[43m)\u001b[49m\n\u001b[0;32m    462\u001b[0m     \u001b[38;5;28;01mif\u001b[39;00m \u001b[38;5;28misinstance\u001b[39m(messages, \u001b[38;5;28mlist\u001b[39m):\n\u001b[0;32m    463\u001b[0m         messages \u001b[38;5;241m=\u001b[39m Conversation(messages\u001b[38;5;241m=\u001b[39mmessages)\n",
      "File \u001b[1;32mm:\\WorkSpace\\AI\\NewsReader\\.venv\\lib\\site-packages\\appl\\servers\\manager.py:113\u001b[0m, in \u001b[0;36mServerManager.get_server\u001b[1;34m(self, name)\u001b[0m\n\u001b[0;32m    111\u001b[0m     name \u001b[38;5;241m=\u001b[39m global_vars\u001b[38;5;241m.\u001b[39mconfigs\u001b[38;5;241m.\u001b[39mdefault_servers\u001b[38;5;241m.\u001b[39mdefault\n\u001b[0;32m    112\u001b[0m     \u001b[38;5;28;01mif\u001b[39;00m name \u001b[38;5;129;01mis\u001b[39;00m \u001b[38;5;28;01mNone\u001b[39;00m:  \u001b[38;5;66;03m# backward-compatible for now\u001b[39;00m\n\u001b[1;32m--> 113\u001b[0m         name \u001b[38;5;241m=\u001b[39m \u001b[43mglobal_vars\u001b[49m\u001b[38;5;241;43m.\u001b[39;49m\u001b[43mconfigs\u001b[49m\u001b[38;5;241;43m.\u001b[39;49m\u001b[43mservers\u001b[49m\u001b[38;5;241;43m.\u001b[39;49m\u001b[43mget\u001b[49m(\u001b[38;5;124m\"\u001b[39m\u001b[38;5;124mdefault\u001b[39m\u001b[38;5;124m\"\u001b[39m, \u001b[38;5;28;01mNone\u001b[39;00m)  \u001b[38;5;66;03m# type: ignore\u001b[39;00m\n\u001b[0;32m    114\u001b[0m         \u001b[38;5;66;03m# logger.warning(\u001b[39;00m\n\u001b[0;32m    115\u001b[0m         \u001b[38;5;66;03m#     \"Default server is moved to default_servers.default, \"\u001b[39;00m\n\u001b[0;32m    116\u001b[0m         \u001b[38;5;66;03m#     \"please update your config file to set the default server. \"\u001b[39;00m\n\u001b[0;32m    117\u001b[0m         \u001b[38;5;66;03m#     \"The current way will be deprecated in the future.\"\u001b[39;00m\n\u001b[0;32m    118\u001b[0m         \u001b[38;5;66;03m# )\u001b[39;00m\n\u001b[0;32m    119\u001b[0m \u001b[38;5;28;01mif\u001b[39;00m name \u001b[38;5;129;01mis\u001b[39;00m \u001b[38;5;28;01mNone\u001b[39;00m:\n",
      "\u001b[1;31mAttributeError\u001b[0m: 'NoneType' object has no attribute 'get'"
     ]
    }
   ],
   "source": [
    "from appl import gen, ppl\n",
    "\n",
    "@ppl  # the @ppl decorator marks the function as an `APPL function`\n",
    "def greeting(name: str):\n",
    "    f\"Hello World! My name is {name}.\"  # Add text to the prompt\n",
    "    return gen()  # call the default LLM with the current prompt\n",
    "\n",
    "print(greeting(\"APPL\"))  # call `greeting` as a normal Python function"
   ]
  }
 ],
 "metadata": {
  "kernelspec": {
   "display_name": ".venv",
   "language": "python",
   "name": "python3"
  },
  "language_info": {
   "codemirror_mode": {
    "name": "ipython",
    "version": 3
   },
   "file_extension": ".py",
   "mimetype": "text/x-python",
   "name": "python",
   "nbconvert_exporter": "python",
   "pygments_lexer": "ipython3",
   "version": "3.10.11"
  }
 },
 "nbformat": 4,
 "nbformat_minor": 2
}
